{
 "cells": [
  {
   "cell_type": "markdown",
   "metadata": {},
   "source": [
    "# IPython: Beyond Normal Python"
   ]
  },
  {
   "cell_type": "markdown",
   "metadata": {},
   "source": [
    "## Help and Documentation"
   ]
  },
  {
   "cell_type": "code",
   "execution_count": null,
   "metadata": {},
   "outputs": [],
   "source": [
    "# ?\n",
    "\n",
    "# help(len)\n",
    "# len?\n",
    "\n",
    "# The two above achieve the same end, to find out the purpose of a function using iPython\n",
    "# The same process can be used to define objects, their contents, or bring up the lead \n",
    "# comments on a created function \n",
    "\n",
    "# def square(a):\n",
    "#     \"\"\"Return the square of a.\"\"\"\n",
    "#     return a ** 2\n",
    "# square?\n",
    "\n",
    "# Adding 2 question marks takes you to the full source code (i.e. shows the whole fxn)\n",
    "# square??\n",
    "\n",
    "# Adding a TAB after a fxn gives options that start w/ added letters\n",
    "# L = [1,2,3]\n",
    "# L.\n",
    "\n",
    "# Putting * at start and ? at end gives all options with a given word. \n",
    "# Useful for understanding newly downloaded packets. \n",
    "# *Warning?\n",
    "\n"
   ]
  },
  {
   "cell_type": "markdown",
   "metadata": {},
   "source": [
    "## Keyboard Shortcuts"
   ]
  },
  {
   "cell_type": "code",
   "execution_count": null,
   "metadata": {},
   "outputs": [],
   "source": [
    "# To enter command mode, click Esc. \n",
    "# From there just click letters for shrtcuts, click H to open panel w/ all of them\n",
    "# Useful ones are dd for delete, m for markdown, y for code, s for save,\n",
    "# b for new below, z for undo\n",
    "# New one added was Ctrl-F for a fresh start (restart kernel and clear all output)\n",
    "`\n",
    "# To enter edit mode, just click ENTER\n"
   ]
  },
  {
   "cell_type": "markdown",
   "metadata": {},
   "source": [
    "## Magic Commands"
   ]
  },
  {
   "cell_type": "code",
   "execution_count": 29,
   "metadata": {},
   "outputs": [],
   "source": [
    "# Can analyze the speed of a given fxn using %timeit (if using multiple lines of code %%timeit)\n",
    "# Showed that one line codes are faster than full on for-loops\n",
    "\n",
    "# %timeit L=[n**2 for n in range(1000)]\n",
    "\n",
    "\n",
    "#Can find a list of all the available magic commmands using the following line\n",
    "# %lsmagic\n",
    "    "
   ]
  },
  {
   "cell_type": "markdown",
   "metadata": {},
   "source": [
    "## Input and Output History"
   ]
  },
  {
   "cell_type": "code",
   "execution_count": null,
   "metadata": {},
   "outputs": [],
   "source": []
  },
  {
   "cell_type": "code",
   "execution_count": null,
   "metadata": {},
   "outputs": [],
   "source": []
  },
  {
   "cell_type": "code",
   "execution_count": null,
   "metadata": {},
   "outputs": [],
   "source": []
  },
  {
   "cell_type": "code",
   "execution_count": null,
   "metadata": {},
   "outputs": [],
   "source": []
  },
  {
   "cell_type": "code",
   "execution_count": null,
   "metadata": {},
   "outputs": [],
   "source": []
  },
  {
   "cell_type": "code",
   "execution_count": null,
   "metadata": {},
   "outputs": [],
   "source": []
  },
  {
   "cell_type": "code",
   "execution_count": null,
   "metadata": {},
   "outputs": [],
   "source": []
  },
  {
   "cell_type": "code",
   "execution_count": null,
   "metadata": {},
   "outputs": [],
   "source": []
  },
  {
   "cell_type": "code",
   "execution_count": null,
   "metadata": {},
   "outputs": [],
   "source": []
  },
  {
   "cell_type": "code",
   "execution_count": null,
   "metadata": {},
   "outputs": [],
   "source": []
  },
  {
   "cell_type": "code",
   "execution_count": null,
   "metadata": {},
   "outputs": [],
   "source": []
  },
  {
   "cell_type": "code",
   "execution_count": null,
   "metadata": {},
   "outputs": [],
   "source": []
  },
  {
   "cell_type": "code",
   "execution_count": null,
   "metadata": {},
   "outputs": [],
   "source": []
  },
  {
   "cell_type": "code",
   "execution_count": null,
   "metadata": {},
   "outputs": [],
   "source": []
  },
  {
   "cell_type": "code",
   "execution_count": null,
   "metadata": {},
   "outputs": [],
   "source": []
  }
 ],
 "metadata": {
  "kernelspec": {
   "display_name": "Python 3",
   "language": "python",
   "name": "python3"
  },
  "language_info": {
   "codemirror_mode": {
    "name": "ipython",
    "version": 3
   },
   "file_extension": ".py",
   "mimetype": "text/x-python",
   "name": "python",
   "nbconvert_exporter": "python",
   "pygments_lexer": "ipython3",
   "version": "3.8.3"
  }
 },
 "nbformat": 4,
 "nbformat_minor": 4
}
